{
 "cells": [
  {
   "cell_type": "markdown",
   "id": "a1aa018b-da63-4288-852f-604fcf69eac0",
   "metadata": {},
   "source": [
    "# DataScienceEcosystem"
   ]
  },
  {
   "cell_type": "markdown",
   "id": "593d692d-2cdf-44ad-a2b0-f48950b87152",
   "metadata": {},
   "source": [
    "**Objectives:**\n",
    "* Examples of languages used in data science\n",
    "* Libraries used in data science\n",
    "* Examples of python arithmetic expressions\n"
   ]
  },
  {
   "cell_type": "markdown",
   "id": "7e01fb14-e05f-45df-bcc4-79f7a38799d2",
   "metadata": {},
   "source": [
    "The following is a summary for data science tools"
   ]
  },
  {
   "cell_type": "markdown",
   "id": "76187498-1bb7-4f8e-8586-1c956f2fbb50",
   "metadata": {},
   "source": [
    "Examples of the most widely used languages in data science:\n",
    "1. Python\n",
    "2. R\n",
    "3. SQL"
   ]
  },
  {
   "cell_type": "markdown",
   "id": "a4eee283-6190-4177-956a-242368662c80",
   "metadata": {},
   "source": [
    "Some of the most commonly used libraries by data scientists include:\n",
    "1. Pandas\n",
    "2. TensorFlow\n",
    "3. NumPy"
   ]
  },
  {
   "cell_type": "markdown",
   "id": "b02c657f-7e6d-44de-a12b-809503d82be4",
   "metadata": {},
   "source": [
    "|Data science tools|\n",
    "|-------|\n",
    "|Jupyterlab|\n",
    "|Visual Studio Code|\n",
    "|R|"
   ]
  },
  {
   "cell_type": "markdown",
   "id": "807cd663-c2bd-4a62-9a28-9a8291f2a1b3",
   "metadata": {
    "tags": []
   },
   "source": [
    "### Below are a few of arithmetic expressions in python"
   ]
  },
  {
   "cell_type": "code",
   "execution_count": 5,
   "id": "ed33ff09-0057-4e71-8bd6-2aaa1c17df04",
   "metadata": {
    "tags": []
   },
   "outputs": [
    {
     "data": {
      "text/plain": [
       "17"
      ]
     },
     "execution_count": 5,
     "metadata": {},
     "output_type": "execute_result"
    }
   ],
   "source": [
    "#This is a simple example of multiplying and addition\n",
    "\n",
    "(3*4)+5"
   ]
  },
  {
   "cell_type": "code",
   "execution_count": 16,
   "id": "3dc3e6c6-75cb-43a8-b9ee-983558617294",
   "metadata": {
    "tags": []
   },
   "outputs": [
    {
     "data": {
      "text/plain": [
       "3.3333333333333335"
      ]
     },
     "execution_count": 16,
     "metadata": {},
     "output_type": "execute_result"
    }
   ],
   "source": [
    "#This will convert minutes to hours by dividing by 60\n",
    "\n",
    "def Convertion(minutes):\n",
    "    hours = minutes / 60\n",
    "    return hours\n",
    "\n",
    "Convertion(200)\n"
   ]
  },
  {
   "cell_type": "markdown",
   "id": "64ed86c9-6959-4ba4-9782-430f4de8184d",
   "metadata": {},
   "source": [
    "## Author\n",
    "Abdullah Asem"
   ]
  },
  {
   "cell_type": "code",
   "execution_count": null,
   "id": "5c7fc3da-ccea-4885-a802-cff2fa0e8837",
   "metadata": {},
   "outputs": [],
   "source": []
  }
 ],
 "metadata": {
  "kernelspec": {
   "display_name": "Python",
   "language": "python",
   "name": "conda-env-python-py"
  },
  "language_info": {
   "codemirror_mode": {
    "name": "ipython",
    "version": 3
   },
   "file_extension": ".py",
   "mimetype": "text/x-python",
   "name": "python",
   "nbconvert_exporter": "python",
   "pygments_lexer": "ipython3",
   "version": "3.7.12"
  }
 },
 "nbformat": 4,
 "nbformat_minor": 5
}
